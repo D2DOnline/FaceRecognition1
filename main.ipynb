{
  "nbformat": 4,
  "nbformat_minor": 0,
  "metadata": {
    "kernelspec": {
      "display_name": "Python 3",
      "language": "python",
      "name": "python3"
    },
    "language_info": {
      "codemirror_mode": {
        "name": "ipython",
        "version": 3
      },
      "file_extension": ".py",
      "mimetype": "text/x-python",
      "name": "python",
      "nbconvert_exporter": "python",
      "pygments_lexer": "ipython3",
      "version": "3.8.1"
    },
    "colab": {
      "name": "main.ipynb",
      "provenance": []
    }
  },
  "cells": [
    {
      "cell_type": "code",
      "metadata": {
        "id": "NzGcXHhFqtXo",
        "colab_type": "code",
        "colab": {
          "base_uri": "https://localhost:8080/",
          "height": 255
        },
        "outputId": "8bf38342-6f45-44d1-8345-d1c39ca96b5a"
      },
      "source": [
        "!pip install mtcnn"
      ],
      "execution_count": 1,
      "outputs": [
        {
          "output_type": "stream",
          "text": [
            "Collecting mtcnn\n",
            "\u001b[?25l  Downloading https://files.pythonhosted.org/packages/67/43/abee91792797c609c1bf30f1112117f7a87a713ebaa6ec5201d5555a73ef/mtcnn-0.1.0-py3-none-any.whl (2.3MB)\n",
            "\r\u001b[K     |▏                               | 10kB 14.9MB/s eta 0:00:01\r\u001b[K     |▎                               | 20kB 1.7MB/s eta 0:00:02\r\u001b[K     |▍                               | 30kB 2.2MB/s eta 0:00:02\r\u001b[K     |▋                               | 40kB 2.5MB/s eta 0:00:01\r\u001b[K     |▊                               | 51kB 1.9MB/s eta 0:00:02\r\u001b[K     |▉                               | 61kB 2.2MB/s eta 0:00:01\r\u001b[K     |█                               | 71kB 2.4MB/s eta 0:00:01\r\u001b[K     |█▏                              | 81kB 2.7MB/s eta 0:00:01\r\u001b[K     |█▎                              | 92kB 2.8MB/s eta 0:00:01\r\u001b[K     |█▌                              | 102kB 2.7MB/s eta 0:00:01\r\u001b[K     |█▋                              | 112kB 2.7MB/s eta 0:00:01\r\u001b[K     |█▊                              | 122kB 2.7MB/s eta 0:00:01\r\u001b[K     |█▉                              | 133kB 2.7MB/s eta 0:00:01\r\u001b[K     |██                              | 143kB 2.7MB/s eta 0:00:01\r\u001b[K     |██▏                             | 153kB 2.7MB/s eta 0:00:01\r\u001b[K     |██▎                             | 163kB 2.7MB/s eta 0:00:01\r\u001b[K     |██▌                             | 174kB 2.7MB/s eta 0:00:01\r\u001b[K     |██▋                             | 184kB 2.7MB/s eta 0:00:01\r\u001b[K     |██▊                             | 194kB 2.7MB/s eta 0:00:01\r\u001b[K     |███                             | 204kB 2.7MB/s eta 0:00:01\r\u001b[K     |███                             | 215kB 2.7MB/s eta 0:00:01\r\u001b[K     |███▏                            | 225kB 2.7MB/s eta 0:00:01\r\u001b[K     |███▍                            | 235kB 2.7MB/s eta 0:00:01\r\u001b[K     |███▌                            | 245kB 2.7MB/s eta 0:00:01\r\u001b[K     |███▋                            | 256kB 2.7MB/s eta 0:00:01\r\u001b[K     |███▊                            | 266kB 2.7MB/s eta 0:00:01\r\u001b[K     |████                            | 276kB 2.7MB/s eta 0:00:01\r\u001b[K     |████                            | 286kB 2.7MB/s eta 0:00:01\r\u001b[K     |████▏                           | 296kB 2.7MB/s eta 0:00:01\r\u001b[K     |████▍                           | 307kB 2.7MB/s eta 0:00:01\r\u001b[K     |████▌                           | 317kB 2.7MB/s eta 0:00:01\r\u001b[K     |████▋                           | 327kB 2.7MB/s eta 0:00:01\r\u001b[K     |████▉                           | 337kB 2.7MB/s eta 0:00:01\r\u001b[K     |█████                           | 348kB 2.7MB/s eta 0:00:01\r\u001b[K     |█████                           | 358kB 2.7MB/s eta 0:00:01\r\u001b[K     |█████▏                          | 368kB 2.7MB/s eta 0:00:01\r\u001b[K     |█████▍                          | 378kB 2.7MB/s eta 0:00:01\r\u001b[K     |█████▌                          | 389kB 2.7MB/s eta 0:00:01\r\u001b[K     |█████▋                          | 399kB 2.7MB/s eta 0:00:01\r\u001b[K     |█████▉                          | 409kB 2.7MB/s eta 0:00:01\r\u001b[K     |██████                          | 419kB 2.7MB/s eta 0:00:01\r\u001b[K     |██████                          | 430kB 2.7MB/s eta 0:00:01\r\u001b[K     |██████▎                         | 440kB 2.7MB/s eta 0:00:01\r\u001b[K     |██████▍                         | 450kB 2.7MB/s eta 0:00:01\r\u001b[K     |██████▌                         | 460kB 2.7MB/s eta 0:00:01\r\u001b[K     |██████▊                         | 471kB 2.7MB/s eta 0:00:01\r\u001b[K     |██████▉                         | 481kB 2.7MB/s eta 0:00:01\r\u001b[K     |███████                         | 491kB 2.7MB/s eta 0:00:01\r\u001b[K     |███████                         | 501kB 2.7MB/s eta 0:00:01\r\u001b[K     |███████▎                        | 512kB 2.7MB/s eta 0:00:01\r\u001b[K     |███████▍                        | 522kB 2.7MB/s eta 0:00:01\r\u001b[K     |███████▌                        | 532kB 2.7MB/s eta 0:00:01\r\u001b[K     |███████▊                        | 542kB 2.7MB/s eta 0:00:01\r\u001b[K     |███████▉                        | 552kB 2.7MB/s eta 0:00:01\r\u001b[K     |████████                        | 563kB 2.7MB/s eta 0:00:01\r\u001b[K     |████████▏                       | 573kB 2.7MB/s eta 0:00:01\r\u001b[K     |████████▎                       | 583kB 2.7MB/s eta 0:00:01\r\u001b[K     |████████▍                       | 593kB 2.7MB/s eta 0:00:01\r\u001b[K     |████████▌                       | 604kB 2.7MB/s eta 0:00:01\r\u001b[K     |████████▊                       | 614kB 2.7MB/s eta 0:00:01\r\u001b[K     |████████▉                       | 624kB 2.7MB/s eta 0:00:01\r\u001b[K     |█████████                       | 634kB 2.7MB/s eta 0:00:01\r\u001b[K     |█████████▏                      | 645kB 2.7MB/s eta 0:00:01\r\u001b[K     |█████████▎                      | 655kB 2.7MB/s eta 0:00:01\r\u001b[K     |█████████▍                      | 665kB 2.7MB/s eta 0:00:01\r\u001b[K     |█████████▋                      | 675kB 2.7MB/s eta 0:00:01\r\u001b[K     |█████████▊                      | 686kB 2.7MB/s eta 0:00:01\r\u001b[K     |█████████▉                      | 696kB 2.7MB/s eta 0:00:01\r\u001b[K     |██████████                      | 706kB 2.7MB/s eta 0:00:01\r\u001b[K     |██████████▏                     | 716kB 2.7MB/s eta 0:00:01\r\u001b[K     |██████████▎                     | 727kB 2.7MB/s eta 0:00:01\r\u001b[K     |██████████▍                     | 737kB 2.7MB/s eta 0:00:01\r\u001b[K     |██████████▋                     | 747kB 2.7MB/s eta 0:00:01\r\u001b[K     |██████████▊                     | 757kB 2.7MB/s eta 0:00:01\r\u001b[K     |██████████▉                     | 768kB 2.7MB/s eta 0:00:01\r\u001b[K     |███████████                     | 778kB 2.7MB/s eta 0:00:01\r\u001b[K     |███████████▏                    | 788kB 2.7MB/s eta 0:00:01\r\u001b[K     |███████████▎                    | 798kB 2.7MB/s eta 0:00:01\r\u001b[K     |███████████▌                    | 808kB 2.7MB/s eta 0:00:01\r\u001b[K     |███████████▋                    | 819kB 2.7MB/s eta 0:00:01\r\u001b[K     |███████████▊                    | 829kB 2.7MB/s eta 0:00:01\r\u001b[K     |███████████▉                    | 839kB 2.7MB/s eta 0:00:01\r\u001b[K     |████████████                    | 849kB 2.7MB/s eta 0:00:01\r\u001b[K     |████████████▏                   | 860kB 2.7MB/s eta 0:00:01\r\u001b[K     |████████████▎                   | 870kB 2.7MB/s eta 0:00:01\r\u001b[K     |████████████▌                   | 880kB 2.7MB/s eta 0:00:01\r\u001b[K     |████████████▋                   | 890kB 2.7MB/s eta 0:00:01\r\u001b[K     |████████████▊                   | 901kB 2.7MB/s eta 0:00:01\r\u001b[K     |█████████████                   | 911kB 2.7MB/s eta 0:00:01\r\u001b[K     |█████████████                   | 921kB 2.7MB/s eta 0:00:01\r\u001b[K     |█████████████▏                  | 931kB 2.7MB/s eta 0:00:01\r\u001b[K     |█████████████▍                  | 942kB 2.7MB/s eta 0:00:01\r\u001b[K     |█████████████▌                  | 952kB 2.7MB/s eta 0:00:01\r\u001b[K     |█████████████▋                  | 962kB 2.7MB/s eta 0:00:01\r\u001b[K     |█████████████▊                  | 972kB 2.7MB/s eta 0:00:01\r\u001b[K     |██████████████                  | 983kB 2.7MB/s eta 0:00:01\r\u001b[K     |██████████████                  | 993kB 2.7MB/s eta 0:00:01\r\u001b[K     |██████████████▏                 | 1.0MB 2.7MB/s eta 0:00:01\r\u001b[K     |██████████████▍                 | 1.0MB 2.7MB/s eta 0:00:01\r\u001b[K     |██████████████▌                 | 1.0MB 2.7MB/s eta 0:00:01\r\u001b[K     |██████████████▋                 | 1.0MB 2.7MB/s eta 0:00:01\r\u001b[K     |██████████████▉                 | 1.0MB 2.7MB/s eta 0:00:01\r\u001b[K     |███████████████                 | 1.1MB 2.7MB/s eta 0:00:01\r\u001b[K     |███████████████                 | 1.1MB 2.7MB/s eta 0:00:01\r\u001b[K     |███████████████▏                | 1.1MB 2.7MB/s eta 0:00:01\r\u001b[K     |███████████████▍                | 1.1MB 2.7MB/s eta 0:00:01\r\u001b[K     |███████████████▌                | 1.1MB 2.7MB/s eta 0:00:01\r\u001b[K     |███████████████▋                | 1.1MB 2.7MB/s eta 0:00:01\r\u001b[K     |███████████████▉                | 1.1MB 2.7MB/s eta 0:00:01\r\u001b[K     |████████████████                | 1.1MB 2.7MB/s eta 0:00:01\r\u001b[K     |████████████████                | 1.1MB 2.7MB/s eta 0:00:01\r\u001b[K     |████████████████▎               | 1.1MB 2.7MB/s eta 0:00:01\r\u001b[K     |████████████████▍               | 1.2MB 2.7MB/s eta 0:00:01\r\u001b[K     |████████████████▌               | 1.2MB 2.7MB/s eta 0:00:01\r\u001b[K     |████████████████▊               | 1.2MB 2.7MB/s eta 0:00:01\r\u001b[K     |████████████████▉               | 1.2MB 2.7MB/s eta 0:00:01\r\u001b[K     |█████████████████               | 1.2MB 2.7MB/s eta 0:00:01\r\u001b[K     |█████████████████               | 1.2MB 2.7MB/s eta 0:00:01\r\u001b[K     |█████████████████▎              | 1.2MB 2.7MB/s eta 0:00:01\r\u001b[K     |█████████████████▍              | 1.2MB 2.7MB/s eta 0:00:01\r\u001b[K     |█████████████████▌              | 1.2MB 2.7MB/s eta 0:00:01\r\u001b[K     |█████████████████▊              | 1.2MB 2.7MB/s eta 0:00:01\r\u001b[K     |█████████████████▉              | 1.3MB 2.7MB/s eta 0:00:01\r\u001b[K     |██████████████████              | 1.3MB 2.7MB/s eta 0:00:01\r\u001b[K     |██████████████████▏             | 1.3MB 2.7MB/s eta 0:00:01\r\u001b[K     |██████████████████▎             | 1.3MB 2.7MB/s eta 0:00:01\r\u001b[K     |██████████████████▍             | 1.3MB 2.7MB/s eta 0:00:01\r\u001b[K     |██████████████████▋             | 1.3MB 2.7MB/s eta 0:00:01\r\u001b[K     |██████████████████▊             | 1.3MB 2.7MB/s eta 0:00:01\r\u001b[K     |██████████████████▉             | 1.3MB 2.7MB/s eta 0:00:01\r\u001b[K     |███████████████████             | 1.3MB 2.7MB/s eta 0:00:01\r\u001b[K     |███████████████████▏            | 1.4MB 2.7MB/s eta 0:00:01\r\u001b[K     |███████████████████▎            | 1.4MB 2.7MB/s eta 0:00:01\r\u001b[K     |███████████████████▍            | 1.4MB 2.7MB/s eta 0:00:01\r\u001b[K     |███████████████████▋            | 1.4MB 2.7MB/s eta 0:00:01\r\u001b[K     |███████████████████▊            | 1.4MB 2.7MB/s eta 0:00:01\r\u001b[K     |███████████████████▉            | 1.4MB 2.7MB/s eta 0:00:01\r\u001b[K     |████████████████████            | 1.4MB 2.7MB/s eta 0:00:01\r\u001b[K     |████████████████████▏           | 1.4MB 2.7MB/s eta 0:00:01\r\u001b[K     |████████████████████▎           | 1.4MB 2.7MB/s eta 0:00:01\r\u001b[K     |████████████████████▍           | 1.4MB 2.7MB/s eta 0:00:01\r\u001b[K     |████████████████████▋           | 1.5MB 2.7MB/s eta 0:00:01\r\u001b[K     |████████████████████▊           | 1.5MB 2.7MB/s eta 0:00:01\r\u001b[K     |████████████████████▉           | 1.5MB 2.7MB/s eta 0:00:01\r\u001b[K     |█████████████████████           | 1.5MB 2.7MB/s eta 0:00:01\r\u001b[K     |█████████████████████▏          | 1.5MB 2.7MB/s eta 0:00:01\r\u001b[K     |█████████████████████▎          | 1.5MB 2.7MB/s eta 0:00:01\r\u001b[K     |█████████████████████▌          | 1.5MB 2.7MB/s eta 0:00:01\r\u001b[K     |█████████████████████▋          | 1.5MB 2.7MB/s eta 0:00:01\r\u001b[K     |█████████████████████▊          | 1.5MB 2.7MB/s eta 0:00:01\r\u001b[K     |██████████████████████          | 1.5MB 2.7MB/s eta 0:00:01\r\u001b[K     |██████████████████████          | 1.6MB 2.7MB/s eta 0:00:01\r\u001b[K     |██████████████████████▏         | 1.6MB 2.7MB/s eta 0:00:01\r\u001b[K     |██████████████████████▎         | 1.6MB 2.7MB/s eta 0:00:01\r\u001b[K     |██████████████████████▌         | 1.6MB 2.7MB/s eta 0:00:01\r\u001b[K     |██████████████████████▋         | 1.6MB 2.7MB/s eta 0:00:01\r\u001b[K     |██████████████████████▊         | 1.6MB 2.7MB/s eta 0:00:01\r\u001b[K     |███████████████████████         | 1.6MB 2.7MB/s eta 0:00:01\r\u001b[K     |███████████████████████         | 1.6MB 2.7MB/s eta 0:00:01\r\u001b[K     |███████████████████████▏        | 1.6MB 2.7MB/s eta 0:00:01\r\u001b[K     |███████████████████████▍        | 1.6MB 2.7MB/s eta 0:00:01\r\u001b[K     |███████████████████████▌        | 1.7MB 2.7MB/s eta 0:00:01\r\u001b[K     |███████████████████████▋        | 1.7MB 2.7MB/s eta 0:00:01\r\u001b[K     |███████████████████████▊        | 1.7MB 2.7MB/s eta 0:00:01\r\u001b[K     |████████████████████████        | 1.7MB 2.7MB/s eta 0:00:01\r\u001b[K     |████████████████████████        | 1.7MB 2.7MB/s eta 0:00:01\r\u001b[K     |████████████████████████▏       | 1.7MB 2.7MB/s eta 0:00:01\r\u001b[K     |████████████████████████▍       | 1.7MB 2.7MB/s eta 0:00:01\r\u001b[K     |████████████████████████▌       | 1.7MB 2.7MB/s eta 0:00:01\r\u001b[K     |████████████████████████▋       | 1.7MB 2.7MB/s eta 0:00:01\r\u001b[K     |████████████████████████▉       | 1.8MB 2.7MB/s eta 0:00:01\r\u001b[K     |█████████████████████████       | 1.8MB 2.7MB/s eta 0:00:01\r\u001b[K     |█████████████████████████       | 1.8MB 2.7MB/s eta 0:00:01\r\u001b[K     |█████████████████████████▎      | 1.8MB 2.7MB/s eta 0:00:01\r\u001b[K     |█████████████████████████▍      | 1.8MB 2.7MB/s eta 0:00:01\r\u001b[K     |█████████████████████████▌      | 1.8MB 2.7MB/s eta 0:00:01\r\u001b[K     |█████████████████████████▋      | 1.8MB 2.7MB/s eta 0:00:01\r\u001b[K     |█████████████████████████▉      | 1.8MB 2.7MB/s eta 0:00:01\r\u001b[K     |██████████████████████████      | 1.8MB 2.7MB/s eta 0:00:01\r\u001b[K     |██████████████████████████      | 1.8MB 2.7MB/s eta 0:00:01\r\u001b[K     |██████████████████████████▎     | 1.9MB 2.7MB/s eta 0:00:01\r\u001b[K     |██████████████████████████▍     | 1.9MB 2.7MB/s eta 0:00:01\r\u001b[K     |██████████████████████████▌     | 1.9MB 2.7MB/s eta 0:00:01\r\u001b[K     |██████████████████████████▊     | 1.9MB 2.7MB/s eta 0:00:01\r\u001b[K     |██████████████████████████▉     | 1.9MB 2.7MB/s eta 0:00:01\r\u001b[K     |███████████████████████████     | 1.9MB 2.7MB/s eta 0:00:01\r\u001b[K     |███████████████████████████     | 1.9MB 2.7MB/s eta 0:00:01\r\u001b[K     |███████████████████████████▎    | 1.9MB 2.7MB/s eta 0:00:01\r\u001b[K     |███████████████████████████▍    | 1.9MB 29kB/s eta 0:00:12\r\u001b[K     |███████████████████████████▌    | 1.9MB 29kB/s eta 0:00:11\r\u001b[K     |███████████████████████████▊    | 2.0MB 29kB/s eta 0:00:11\r\u001b[K     |███████████████████████████▉    | 2.0MB 29kB/s eta 0:00:11\r\u001b[K     |████████████████████████████    | 2.0MB 29kB/s eta 0:00:10\r\u001b[K     |████████████████████████████▏   | 2.0MB 29kB/s eta 0:00:10\r\u001b[K     |████████████████████████████▎   | 2.0MB 29kB/s eta 0:00:09\r\u001b[K     |████████████████████████████▍   | 2.0MB 29kB/s eta 0:00:09\r\u001b[K     |████████████████████████████▋   | 2.0MB 29kB/s eta 0:00:09\r\u001b[K     |████████████████████████████▊   | 2.0MB 29kB/s eta 0:00:08\r\u001b[K     |████████████████████████████▉   | 2.0MB 29kB/s eta 0:00:08\r\u001b[K     |█████████████████████████████   | 2.0MB 29kB/s eta 0:00:08\r\u001b[K     |█████████████████████████████▏  | 2.1MB 29kB/s eta 0:00:07\r\u001b[K     |█████████████████████████████▎  | 2.1MB 29kB/s eta 0:00:07\r\u001b[K     |█████████████████████████████▍  | 2.1MB 29kB/s eta 0:00:07\r\u001b[K     |█████████████████████████████▋  | 2.1MB 29kB/s eta 0:00:06\r\u001b[K     |█████████████████████████████▊  | 2.1MB 29kB/s eta 0:00:06\r\u001b[K     |█████████████████████████████▉  | 2.1MB 29kB/s eta 0:00:06\r\u001b[K     |██████████████████████████████  | 2.1MB 29kB/s eta 0:00:05\r\u001b[K     |██████████████████████████████▏ | 2.1MB 29kB/s eta 0:00:05\r\u001b[K     |██████████████████████████████▎ | 2.1MB 29kB/s eta 0:00:05\r\u001b[K     |██████████████████████████████▍ | 2.2MB 29kB/s eta 0:00:04\r\u001b[K     |██████████████████████████████▋ | 2.2MB 29kB/s eta 0:00:04\r\u001b[K     |██████████████████████████████▊ | 2.2MB 29kB/s eta 0:00:04\r\u001b[K     |██████████████████████████████▉ | 2.2MB 29kB/s eta 0:00:03\r\u001b[K     |███████████████████████████████ | 2.2MB 29kB/s eta 0:00:03\r\u001b[K     |███████████████████████████████▏| 2.2MB 29kB/s eta 0:00:03\r\u001b[K     |███████████████████████████████▎| 2.2MB 29kB/s eta 0:00:02\r\u001b[K     |███████████████████████████████▌| 2.2MB 29kB/s eta 0:00:02\r\u001b[K     |███████████████████████████████▋| 2.2MB 29kB/s eta 0:00:01\r\u001b[K     |███████████████████████████████▊| 2.2MB 29kB/s eta 0:00:01\r\u001b[K     |████████████████████████████████| 2.3MB 29kB/s eta 0:00:01\r\u001b[K     |████████████████████████████████| 2.3MB 29kB/s \n",
            "\u001b[?25hRequirement already satisfied: opencv-python>=4.1.0 in /usr/local/lib/python3.6/dist-packages (from mtcnn) (4.1.2.30)\n",
            "Requirement already satisfied: keras>=2.0.0 in /usr/local/lib/python3.6/dist-packages (from mtcnn) (2.3.1)\n",
            "Requirement already satisfied: numpy>=1.11.3 in /usr/local/lib/python3.6/dist-packages (from opencv-python>=4.1.0->mtcnn) (1.18.5)\n",
            "Requirement already satisfied: scipy>=0.14 in /usr/local/lib/python3.6/dist-packages (from keras>=2.0.0->mtcnn) (1.4.1)\n",
            "Requirement already satisfied: pyyaml in /usr/local/lib/python3.6/dist-packages (from keras>=2.0.0->mtcnn) (3.13)\n",
            "Requirement already satisfied: keras-preprocessing>=1.0.5 in /usr/local/lib/python3.6/dist-packages (from keras>=2.0.0->mtcnn) (1.1.2)\n",
            "Requirement already satisfied: six>=1.9.0 in /usr/local/lib/python3.6/dist-packages (from keras>=2.0.0->mtcnn) (1.12.0)\n",
            "Requirement already satisfied: keras-applications>=1.0.6 in /usr/local/lib/python3.6/dist-packages (from keras>=2.0.0->mtcnn) (1.0.8)\n",
            "Requirement already satisfied: h5py in /usr/local/lib/python3.6/dist-packages (from keras>=2.0.0->mtcnn) (2.10.0)\n",
            "Installing collected packages: mtcnn\n",
            "Successfully installed mtcnn-0.1.0\n"
          ],
          "name": "stdout"
        }
      ]
    },
    {
      "cell_type": "code",
      "metadata": {
        "id": "nb2-ifimtKEO",
        "colab_type": "code",
        "colab": {
          "base_uri": "https://localhost:8080/",
          "height": 119
        },
        "outputId": "2f40bbfc-463e-43cb-f2db-a180415e1f39"
      },
      "source": [
        "!git clone https://github.com/D2DOnline/FaceRecognition1.git"
      ],
      "execution_count": 2,
      "outputs": [
        {
          "output_type": "stream",
          "text": [
            "Cloning into 'FaceRecognition1'...\n",
            "remote: Enumerating objects: 90, done.\u001b[K\n",
            "remote: Counting objects:   1% (1/90)\u001b[K\rremote: Counting objects:   2% (2/90)\u001b[K\rremote: Counting objects:   3% (3/90)\u001b[K\rremote: Counting objects:   4% (4/90)\u001b[K\rremote: Counting objects:   5% (5/90)\u001b[K\rremote: Counting objects:   6% (6/90)\u001b[K\rremote: Counting objects:   7% (7/90)\u001b[K\rremote: Counting objects:   8% (8/90)\u001b[K\rremote: Counting objects:  10% (9/90)\u001b[K\rremote: Counting objects:  11% (10/90)\u001b[K\rremote: Counting objects:  12% (11/90)\u001b[K\rremote: Counting objects:  13% (12/90)\u001b[K\rremote: Counting objects:  14% (13/90)\u001b[K\rremote: Counting objects:  15% (14/90)\u001b[K\rremote: Counting objects:  16% (15/90)\u001b[K\rremote: Counting objects:  17% (16/90)\u001b[K\rremote: Counting objects:  18% (17/90)\u001b[K\rremote: Counting objects:  20% (18/90)\u001b[K\rremote: Counting objects:  21% (19/90)\u001b[K\rremote: Counting objects:  22% (20/90)\u001b[K\rremote: Counting objects:  23% (21/90)\u001b[K\rremote: Counting objects:  24% (22/90)\u001b[K\rremote: Counting objects:  25% (23/90)\u001b[K\rremote: Counting objects:  26% (24/90)\u001b[K\rremote: Counting objects:  27% (25/90)\u001b[K\rremote: Counting objects:  28% (26/90)\u001b[K\rremote: Counting objects:  30% (27/90)\u001b[K\rremote: Counting objects:  31% (28/90)\u001b[K\rremote: Counting objects:  32% (29/90)\u001b[K\rremote: Counting objects:  33% (30/90)\u001b[K\rremote: Counting objects:  34% (31/90)\u001b[K\rremote: Counting objects:  35% (32/90)\u001b[K\rremote: Counting objects:  36% (33/90)\u001b[K\rremote: Counting objects:  37% (34/90)\u001b[K\rremote: Counting objects:  38% (35/90)\u001b[K\rremote: Counting objects:  40% (36/90)\u001b[K\rremote: Counting objects:  41% (37/90)\u001b[K\rremote: Counting objects:  42% (38/90)\u001b[K\rremote: Counting objects:  43% (39/90)\u001b[K\rremote: Counting objects:  44% (40/90)\u001b[K\rremote: Counting objects:  45% (41/90)\u001b[K\rremote: Counting objects:  46% (42/90)\u001b[K\rremote: Counting objects:  47% (43/90)\u001b[K\rremote: Counting objects:  48% (44/90)\u001b[K\rremote: Counting objects:  50% (45/90)\u001b[K\rremote: Counting objects:  51% (46/90)\u001b[K\rremote: Counting objects:  52% (47/90)\u001b[K\rremote: Counting objects:  53% (48/90)\u001b[K\rremote: Counting objects:  54% (49/90)\u001b[K\rremote: Counting objects:  55% (50/90)\u001b[K\rremote: Counting objects:  56% (51/90)\u001b[K\rremote: Counting objects:  57% (52/90)\u001b[K\rremote: Counting objects:  58% (53/90)\u001b[K\rremote: Counting objects:  60% (54/90)\u001b[K\rremote: Counting objects:  61% (55/90)\u001b[K\rremote: Counting objects:  62% (56/90)\u001b[K\rremote: Counting objects:  63% (57/90)\u001b[K\rremote: Counting objects:  64% (58/90)\u001b[K\rremote: Counting objects:  65% (59/90)\u001b[K\rremote: Counting objects:  66% (60/90)\u001b[K\rremote: Counting objects:  67% (61/90)\u001b[K\rremote: Counting objects:  68% (62/90)\u001b[K\rremote: Counting objects:  70% (63/90)\u001b[K\rremote: Counting objects:  71% (64/90)\u001b[K\rremote: Counting objects:  72% (65/90)\u001b[K\rremote: Counting objects:  73% (66/90)\u001b[K\rremote: Counting objects:  74% (67/90)\u001b[K\rremote: Counting objects:  75% (68/90)\u001b[K\rremote: Counting objects:  76% (69/90)\u001b[K\rremote: Counting objects:  77% (70/90)\u001b[K\rremote: Counting objects:  78% (71/90)\u001b[K\rremote: Counting objects:  80% (72/90)\u001b[K\rremote: Counting objects:  81% (73/90)\u001b[K\rremote: Counting objects:  82% (74/90)\u001b[K\rremote: Counting objects:  83% (75/90)\u001b[K\rremote: Counting objects:  84% (76/90)\u001b[K\rremote: Counting objects:  85% (77/90)\u001b[K\rremote: Counting objects:  86% (78/90)\u001b[K\rremote: Counting objects:  87% (79/90)\u001b[K\rremote: Counting objects:  88% (80/90)\u001b[K\rremote: Counting objects:  90% (81/90)\u001b[K\rremote: Counting objects:  91% (82/90)\u001b[K\rremote: Counting objects:  92% (83/90)\u001b[K\rremote: Counting objects:  93% (84/90)\u001b[K\rremote: Counting objects:  94% (85/90)\u001b[K\rremote: Counting objects:  95% (86/90)\u001b[K\rremote: Counting objects:  96% (87/90)\u001b[K\rremote: Counting objects:  97% (88/90)\u001b[K\rremote: Counting objects:  98% (89/90)\u001b[K\rremote: Counting objects: 100% (90/90)\u001b[K\rremote: Counting objects: 100% (90/90), done.\u001b[K\n",
            "remote: Compressing objects:   1% (1/88)\u001b[K\rremote: Compressing objects:   2% (2/88)\u001b[K\rremote: Compressing objects:   3% (3/88)\u001b[K\rremote: Compressing objects:   4% (4/88)\u001b[K\rremote: Compressing objects:   5% (5/88)\u001b[K\rremote: Compressing objects:   6% (6/88)\u001b[K\rremote: Compressing objects:   7% (7/88)\u001b[K\rremote: Compressing objects:   9% (8/88)\u001b[K\rremote: Compressing objects:  10% (9/88)\u001b[K\rremote: Compressing objects:  11% (10/88)\u001b[K\rremote: Compressing objects:  12% (11/88)\u001b[K\rremote: Compressing objects:  13% (12/88)\u001b[K\rremote: Compressing objects:  14% (13/88)\u001b[K\rremote: Compressing objects:  15% (14/88)\u001b[K\rremote: Compressing objects:  17% (15/88)\u001b[K\rremote: Compressing objects:  18% (16/88)\u001b[K\rremote: Compressing objects:  19% (17/88)\u001b[K\rremote: Compressing objects:  20% (18/88)\u001b[K\rremote: Compressing objects:  21% (19/88)\u001b[K\rremote: Compressing objects:  22% (20/88)\u001b[K\rremote: Compressing objects:  23% (21/88)\u001b[K\rremote: Compressing objects:  25% (22/88)\u001b[K\rremote: Compressing objects:  26% (23/88)\u001b[K\rremote: Compressing objects:  27% (24/88)\u001b[K\rremote: Compressing objects:  28% (25/88)\u001b[K\rremote: Compressing objects:  29% (26/88)\u001b[K\rremote: Compressing objects:  30% (27/88)\u001b[K\rremote: Compressing objects:  31% (28/88)\u001b[K\rremote: Compressing objects:  32% (29/88)\u001b[K\rremote: Compressing objects:  34% (30/88)\u001b[K\rremote: Compressing objects:  35% (31/88)\u001b[K\rremote: Compressing objects:  36% (32/88)\u001b[K\rremote: Compressing objects:  37% (33/88)\u001b[K\rremote: Compressing objects:  38% (34/88)\u001b[K\rremote: Compressing objects:  39% (35/88)\u001b[K\rremote: Compressing objects:  40% (36/88)\u001b[K\rremote: Compressing objects:  42% (37/88)\u001b[K\rremote: Compressing objects:  43% (38/88)\u001b[K\rremote: Compressing objects:  44% (39/88)\u001b[K\rremote: Compressing objects:  45% (40/88)\u001b[K\rremote: Compressing objects:  46% (41/88)\u001b[K\rremote: Compressing objects:  47% (42/88)\u001b[K\rremote: Compressing objects:  48% (43/88)\u001b[K\rremote: Compressing objects:  50% (44/88)\u001b[K\rremote: Compressing objects:  51% (45/88)\u001b[K\rremote: Compressing objects:  52% (46/88)\u001b[K\rremote: Compressing objects:  53% (47/88)\u001b[K\rremote: Compressing objects:  54% (48/88)\u001b[K\rremote: Compressing objects:  55% (49/88)\u001b[K\rremote: Compressing objects:  56% (50/88)\u001b[K\rremote: Compressing objects:  57% (51/88)\u001b[K\rremote: Compressing objects:  59% (52/88)\u001b[K\rremote: Compressing objects:  60% (53/88)\u001b[K\rremote: Compressing objects:  61% (54/88)\u001b[K\rremote: Compressing objects:  62% (55/88)\u001b[K\rremote: Compressing objects:  63% (56/88)\u001b[K\rremote: Compressing objects:  64% (57/88)\u001b[K\rremote: Compressing objects:  65% (58/88)\u001b[K\rremote: Compressing objects:  67% (59/88)\u001b[K\rremote: Compressing objects:  68% (60/88)\u001b[K\rremote: Compressing objects:  69% (61/88)\u001b[K\rremote: Compressing objects:  70% (62/88)\u001b[K\rremote: Compressing objects:  71% (63/88)\u001b[K\rremote: Compressing objects:  72% (64/88)\u001b[K\rremote: Compressing objects:  73% (65/88)\u001b[K\rremote: Compressing objects:  75% (66/88)\u001b[K\rremote: Compressing objects:  76% (67/88)\u001b[K\rremote: Compressing objects:  77% (68/88)\u001b[K\rremote: Compressing objects:  78% (69/88)\u001b[K\rremote: Compressing objects:  79% (70/88)\u001b[K\rremote: Compressing objects:  80% (71/88)\u001b[K\rremote: Compressing objects:  81% (72/88)\u001b[K\rremote: Compressing objects:  82% (73/88)\u001b[K\rremote: Compressing objects:  84% (74/88)\u001b[K\rremote: Compressing objects:  85% (75/88)\u001b[K\rremote: Compressing objects:  86% (76/88)\u001b[K\rremote: Compressing objects:  87% (77/88)\u001b[K\rremote: Compressing objects:  88% (78/88)\u001b[K\rremote: Compressing objects:  89% (79/88)\u001b[K\rremote: Compressing objects:  90% (80/88)\u001b[K\rremote: Compressing objects:  92% (81/88)\u001b[K\rremote: Compressing objects:  93% (82/88)\u001b[K\rremote: Compressing objects:  94% (83/88)\u001b[K\rremote: Compressing objects:  95% (84/88)\u001b[K\rremote: Compressing objects:  96% (85/88)\u001b[K\rremote: Compressing objects:  97% (86/88)\u001b[K\rremote: Compressing objects:  98% (87/88)\u001b[K\rremote: Compressing objects: 100% (88/88)\u001b[K\rremote: Compressing objects: 100% (88/88), done.\u001b[K\n",
            "Unpacking objects:   1% (1/90)   \rUnpacking objects:   2% (2/90)   \rUnpacking objects:   3% (3/90)   \rUnpacking objects:   4% (4/90)   \rUnpacking objects:   5% (5/90)   \rUnpacking objects:   6% (6/90)   \rUnpacking objects:   7% (7/90)   \rUnpacking objects:   8% (8/90)   \rUnpacking objects:  10% (9/90)   \rUnpacking objects:  11% (10/90)   \rUnpacking objects:  12% (11/90)   \rUnpacking objects:  13% (12/90)   \rUnpacking objects:  14% (13/90)   \rUnpacking objects:  15% (14/90)   \rUnpacking objects:  16% (15/90)   \rUnpacking objects:  17% (16/90)   \rUnpacking objects:  18% (17/90)   \rUnpacking objects:  20% (18/90)   \rUnpacking objects:  21% (19/90)   \rUnpacking objects:  22% (20/90)   \rUnpacking objects:  23% (21/90)   \rUnpacking objects:  24% (22/90)   \rUnpacking objects:  25% (23/90)   \rUnpacking objects:  26% (24/90)   \rUnpacking objects:  27% (25/90)   \rUnpacking objects:  28% (26/90)   \rUnpacking objects:  30% (27/90)   \rUnpacking objects:  31% (28/90)   \rUnpacking objects:  32% (29/90)   \rUnpacking objects:  33% (30/90)   \rUnpacking objects:  34% (31/90)   \rUnpacking objects:  35% (32/90)   \rUnpacking objects:  36% (33/90)   \rUnpacking objects:  37% (34/90)   \rUnpacking objects:  38% (35/90)   \rUnpacking objects:  40% (36/90)   \rUnpacking objects:  41% (37/90)   \rUnpacking objects:  42% (38/90)   \rUnpacking objects:  43% (39/90)   \rUnpacking objects:  44% (40/90)   \rUnpacking objects:  45% (41/90)   \rUnpacking objects:  46% (42/90)   \rUnpacking objects:  47% (43/90)   \rUnpacking objects:  48% (44/90)   \rUnpacking objects:  50% (45/90)   \rUnpacking objects:  51% (46/90)   \rUnpacking objects:  52% (47/90)   \rUnpacking objects:  53% (48/90)   \rUnpacking objects:  54% (49/90)   \rUnpacking objects:  55% (50/90)   \rUnpacking objects:  56% (51/90)   \rUnpacking objects:  57% (52/90)   \rUnpacking objects:  58% (53/90)   \rUnpacking objects:  60% (54/90)   \rUnpacking objects:  61% (55/90)   \rUnpacking objects:  62% (56/90)   \rUnpacking objects:  63% (57/90)   \rUnpacking objects:  64% (58/90)   \rUnpacking objects:  65% (59/90)   \rUnpacking objects:  66% (60/90)   \rUnpacking objects:  67% (61/90)   \rUnpacking objects:  68% (62/90)   \rUnpacking objects:  70% (63/90)   \rUnpacking objects:  71% (64/90)   \rUnpacking objects:  72% (65/90)   \rUnpacking objects:  73% (66/90)   \rUnpacking objects:  74% (67/90)   \rUnpacking objects:  75% (68/90)   \rUnpacking objects:  76% (69/90)   \rUnpacking objects:  77% (70/90)   \rUnpacking objects:  78% (71/90)   \rUnpacking objects:  80% (72/90)   \rUnpacking objects:  81% (73/90)   \rUnpacking objects:  82% (74/90)   \rUnpacking objects:  83% (75/90)   \rremote: Total 90 (delta 23), reused 0 (delta 0), pack-reused 0\u001b[K\n",
            "Unpacking objects:  84% (76/90)   \rUnpacking objects:  85% (77/90)   \rUnpacking objects:  86% (78/90)   \rUnpacking objects:  87% (79/90)   \rUnpacking objects:  88% (80/90)   \rUnpacking objects:  90% (81/90)   \rUnpacking objects:  91% (82/90)   \rUnpacking objects:  92% (83/90)   \rUnpacking objects:  93% (84/90)   \rUnpacking objects:  94% (85/90)   \rUnpacking objects:  95% (86/90)   \rUnpacking objects:  96% (87/90)   \rUnpacking objects:  97% (88/90)   \rUnpacking objects:  98% (89/90)   \rUnpacking objects: 100% (90/90)   \rUnpacking objects: 100% (90/90), done.\n"
          ],
          "name": "stdout"
        }
      ]
    },
    {
      "cell_type": "code",
      "metadata": {
        "id": "EXBYFdkQqtX9",
        "colab_type": "code",
        "colab": {
          "base_uri": "https://localhost:8080/",
          "height": 34
        },
        "outputId": "c566f683-0556-43ad-a2d5-c45e383ea1d5"
      },
      "source": [
        "!ls FaceRecognition1\n"
      ],
      "execution_count": 3,
      "outputs": [
        {
          "output_type": "stream",
          "text": [
            "data-preprocess.py  main.ipynb\tREADME.md  test-images\ttrain-images\n"
          ],
          "name": "stdout"
        }
      ]
    },
    {
      "cell_type": "code",
      "metadata": {
        "id": "6fx1c-I9tbxc",
        "colab_type": "code",
        "colab": {
          "base_uri": "https://localhost:8080/",
          "height": 34
        },
        "outputId": "b3a5179c-4f70-4e1d-9a17-fc8df0f37de9"
      },
      "source": [
        "from os import listdir\n",
        "from os.path import isdir\n",
        "from PIL import Image\n",
        "from matplotlib import pyplot\n",
        "from numpy import savez_compressed\n",
        "from numpy import asarray\n",
        "from mtcnn.mtcnn import MTCNN"
      ],
      "execution_count": 4,
      "outputs": [
        {
          "output_type": "stream",
          "text": [
            "Using TensorFlow backend.\n"
          ],
          "name": "stderr"
        }
      ]
    },
    {
      "cell_type": "code",
      "metadata": {
        "id": "80vQFflrtrmt",
        "colab_type": "code",
        "colab": {}
      },
      "source": [
        "def extract_face(filename, required_size=(160, 160)):\n",
        "\timage = Image.open(filename)\n",
        "\timage = image.convert('RGB')\n",
        "\tpixels = asarray(image)\n",
        "\tdetector = MTCNN()\n",
        "\tresults = detector.detect_faces(pixels)\n",
        "\tx1, y1, width, height = results[0]['box']\n",
        "\tx1, y1 = abs(x1), abs(y1)\n",
        "\tx2, y2 = x1 + width, y1 + height\n",
        "\tface = pixels[y1:y2, x1:x2]\n",
        "\timage = Image.fromarray(face)\n",
        "\timage = image.resize(required_size)\n",
        "\tface_array = asarray(image)\n",
        "\treturn face_array"
      ],
      "execution_count": 5,
      "outputs": []
    },
    {
      "cell_type": "code",
      "metadata": {
        "id": "YkZAL2L9t_52",
        "colab_type": "code",
        "colab": {}
      },
      "source": [
        "def load_faces(directory):\n",
        "\tfaces = list()\n",
        "\tfor filename in listdir(directory):\n",
        "\t\tpath = directory + '/' + filename\n",
        "\t\tface = extract_face(path)\n",
        "\t\tfaces.append(face)\n",
        "\treturn faces"
      ],
      "execution_count": 6,
      "outputs": []
    },
    {
      "cell_type": "code",
      "metadata": {
        "id": "boDxI4y1uLwt",
        "colab_type": "code",
        "colab": {}
      },
      "source": [
        "def load_dataset(directory):\n",
        "\tX, y = list(), list()\n",
        "\tfor subdir in listdir(directory):\n",
        "\t\tpath = directory + '/' + subdir\n",
        "\t\tif not isdir(path):\n",
        "\t\t\tcontinue\n",
        "\t\tfaces = load_faces(path)\n",
        "\t\tlabels = [subdir for _ in range(len(faces))]\n",
        "\t\tprint('>loaded %d examples for class: %s' % (len(faces), subdir))\n",
        "\t\t# store\n",
        "\t\tX.extend(faces)\n",
        "\t\ty.extend(labels)\n",
        "\treturn asarray(X), asarray(y)\n"
      ],
      "execution_count": 7,
      "outputs": []
    },
    {
      "cell_type": "code",
      "metadata": {
        "id": "L8_Ol5gkuhBg",
        "colab_type": "code",
        "colab": {
          "base_uri": "https://localhost:8080/",
          "height": 136
        },
        "outputId": "f1a13e06-9aff-495d-cbb9-2b0c5097ac0f"
      },
      "source": [
        "trainX, trainY = load_dataset('FaceRecognition1/train-images')\n",
        "print(trainX.shape, trainY.shape)\n",
        "testX, testY = load_dataset('FaceRecognition1/test-images')\n",
        "savez_compressed('FaceRecognition1/face-dataset.npz', trainX, trainY, testX, testY)"
      ],
      "execution_count": 8,
      "outputs": [
        {
          "output_type": "stream",
          "text": [
            ">loaded 8 examples for class: anand\n",
            ">loaded 8 examples for class: guru\n",
            ">loaded 8 examples for class: jitendra\n",
            "(24, 160, 160, 3) (24,)\n",
            ">loaded 4 examples for class: anand\n",
            ">loaded 3 examples for class: guru\n",
            ">loaded 3 examples for class: jitendra\n"
          ],
          "name": "stdout"
        }
      ]
    },
    {
      "cell_type": "code",
      "metadata": {
        "id": "d368SjPnyHer",
        "colab_type": "code",
        "colab": {
          "base_uri": "https://localhost:8080/",
          "height": 51
        },
        "outputId": "d98945ef-fbe8-4683-b26b-d690a9c44b0b"
      },
      "source": [
        "!ls FaceRecognition1"
      ],
      "execution_count": 9,
      "outputs": [
        {
          "output_type": "stream",
          "text": [
            "data-preprocess.py  main.ipynb\ttest-images\n",
            "face-dataset.npz    README.md\ttrain-images\n"
          ],
          "name": "stdout"
        }
      ]
    },
    {
      "cell_type": "code",
      "metadata": {
        "id": "LOBaRPryrMYT",
        "colab_type": "code",
        "colab": {}
      },
      "source": [
        ""
      ],
      "execution_count": null,
      "outputs": []
    }
  ]
}
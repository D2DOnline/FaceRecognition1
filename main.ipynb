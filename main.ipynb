{
  "nbformat": 4,
  "nbformat_minor": 0,
  "metadata": {
    "kernelspec": {
      "display_name": "Python 3",
      "language": "python",
      "name": "python3"
    },
    "language_info": {
      "codemirror_mode": {
        "name": "ipython",
        "version": 3
      },
      "file_extension": ".py",
      "mimetype": "text/x-python",
      "name": "python",
      "nbconvert_exporter": "python",
      "pygments_lexer": "ipython3",
      "version": "3.8.1"
    },
    "colab": {
      "name": "main.ipynb",
      "provenance": []
    }
  },
  "cells": [
    {
      "cell_type": "code",
      "metadata": {
        "id": "NzGcXHhFqtXo",
        "colab_type": "code",
        "colab": {
          "base_uri": "https://localhost:8080/",
          "height": 255
        },
        "outputId": "f9c7e885-80d3-4cd1-ffd7-83b5a801949a"
      },
      "source": [
        "!pip install mtcnn"
      ],
      "execution_count": 1,
      "outputs": [
        {
          "output_type": "stream",
          "text": [
            "Collecting mtcnn\n",
            "\u001b[?25l  Downloading https://files.pythonhosted.org/packages/67/43/abee91792797c609c1bf30f1112117f7a87a713ebaa6ec5201d5555a73ef/mtcnn-0.1.0-py3-none-any.whl (2.3MB)\n",
            "\r\u001b[K     |▏                               | 10kB 16.4MB/s eta 0:00:01\r\u001b[K     |▎                               | 20kB 2.1MB/s eta 0:00:02\r\u001b[K     |▍                               | 30kB 2.7MB/s eta 0:00:01\r\u001b[K     |▋                               | 40kB 2.9MB/s eta 0:00:01\r\u001b[K     |▊                               | 51kB 2.4MB/s eta 0:00:01\r\u001b[K     |▉                               | 61kB 2.7MB/s eta 0:00:01\r\u001b[K     |█                               | 71kB 3.0MB/s eta 0:00:01\r\u001b[K     |█▏                              | 81kB 3.0MB/s eta 0:00:01\r\u001b[K     |█▎                              | 92kB 3.3MB/s eta 0:00:01\r\u001b[K     |█▌                              | 102kB 3.3MB/s eta 0:00:01\r\u001b[K     |█▋                              | 112kB 3.3MB/s eta 0:00:01\r\u001b[K     |█▊                              | 122kB 3.3MB/s eta 0:00:01\r\u001b[K     |█▉                              | 133kB 3.3MB/s eta 0:00:01\r\u001b[K     |██                              | 143kB 3.3MB/s eta 0:00:01\r\u001b[K     |██▏                             | 153kB 3.3MB/s eta 0:00:01\r\u001b[K     |██▎                             | 163kB 3.3MB/s eta 0:00:01\r\u001b[K     |██▌                             | 174kB 3.3MB/s eta 0:00:01\r\u001b[K     |██▋                             | 184kB 3.3MB/s eta 0:00:01\r\u001b[K     |██▊                             | 194kB 3.3MB/s eta 0:00:01\r\u001b[K     |███                             | 204kB 3.3MB/s eta 0:00:01\r\u001b[K     |███                             | 215kB 3.3MB/s eta 0:00:01\r\u001b[K     |███▏                            | 225kB 3.3MB/s eta 0:00:01\r\u001b[K     |███▍                            | 235kB 3.3MB/s eta 0:00:01\r\u001b[K     |███▌                            | 245kB 3.3MB/s eta 0:00:01\r\u001b[K     |███▋                            | 256kB 3.3MB/s eta 0:00:01\r\u001b[K     |███▊                            | 266kB 3.3MB/s eta 0:00:01\r\u001b[K     |████                            | 276kB 3.3MB/s eta 0:00:01\r\u001b[K     |████                            | 286kB 3.3MB/s eta 0:00:01\r\u001b[K     |████▏                           | 296kB 3.3MB/s eta 0:00:01\r\u001b[K     |████▍                           | 307kB 3.3MB/s eta 0:00:01\r\u001b[K     |████▌                           | 317kB 3.3MB/s eta 0:00:01\r\u001b[K     |████▋                           | 327kB 3.3MB/s eta 0:00:01\r\u001b[K     |████▉                           | 337kB 3.3MB/s eta 0:00:01\r\u001b[K     |█████                           | 348kB 3.3MB/s eta 0:00:01\r\u001b[K     |█████                           | 358kB 3.3MB/s eta 0:00:01\r\u001b[K     |█████▏                          | 368kB 3.3MB/s eta 0:00:01\r\u001b[K     |█████▍                          | 378kB 3.3MB/s eta 0:00:01\r\u001b[K     |█████▌                          | 389kB 3.3MB/s eta 0:00:01\r\u001b[K     |█████▋                          | 399kB 3.3MB/s eta 0:00:01\r\u001b[K     |█████▉                          | 409kB 3.3MB/s eta 0:00:01\r\u001b[K     |██████                          | 419kB 3.3MB/s eta 0:00:01\r\u001b[K     |██████                          | 430kB 3.3MB/s eta 0:00:01\r\u001b[K     |██████▎                         | 440kB 3.3MB/s eta 0:00:01\r\u001b[K     |██████▍                         | 450kB 3.3MB/s eta 0:00:01\r\u001b[K     |██████▌                         | 460kB 3.3MB/s eta 0:00:01\r\u001b[K     |██████▊                         | 471kB 3.3MB/s eta 0:00:01\r\u001b[K     |██████▉                         | 481kB 3.3MB/s eta 0:00:01\r\u001b[K     |███████                         | 491kB 3.3MB/s eta 0:00:01\r\u001b[K     |███████                         | 501kB 3.3MB/s eta 0:00:01\r\u001b[K     |███████▎                        | 512kB 3.3MB/s eta 0:00:01\r\u001b[K     |███████▍                        | 522kB 3.3MB/s eta 0:00:01\r\u001b[K     |███████▌                        | 532kB 3.3MB/s eta 0:00:01\r\u001b[K     |███████▊                        | 542kB 3.3MB/s eta 0:00:01\r\u001b[K     |███████▉                        | 552kB 3.3MB/s eta 0:00:01\r\u001b[K     |████████                        | 563kB 3.3MB/s eta 0:00:01\r\u001b[K     |████████▏                       | 573kB 3.3MB/s eta 0:00:01\r\u001b[K     |████████▎                       | 583kB 3.3MB/s eta 0:00:01\r\u001b[K     |████████▍                       | 593kB 3.3MB/s eta 0:00:01\r\u001b[K     |████████▌                       | 604kB 3.3MB/s eta 0:00:01\r\u001b[K     |████████▊                       | 614kB 3.3MB/s eta 0:00:01\r\u001b[K     |████████▉                       | 624kB 3.3MB/s eta 0:00:01\r\u001b[K     |█████████                       | 634kB 3.3MB/s eta 0:00:01\r\u001b[K     |█████████▏                      | 645kB 3.3MB/s eta 0:00:01\r\u001b[K     |█████████▎                      | 655kB 3.3MB/s eta 0:00:01\r\u001b[K     |█████████▍                      | 665kB 3.3MB/s eta 0:00:01\r\u001b[K     |█████████▋                      | 675kB 3.3MB/s eta 0:00:01\r\u001b[K     |█████████▊                      | 686kB 3.3MB/s eta 0:00:01\r\u001b[K     |█████████▉                      | 696kB 3.3MB/s eta 0:00:01\r\u001b[K     |██████████                      | 706kB 3.3MB/s eta 0:00:01\r\u001b[K     |██████████▏                     | 716kB 3.3MB/s eta 0:00:01\r\u001b[K     |██████████▎                     | 727kB 3.3MB/s eta 0:00:01\r\u001b[K     |██████████▍                     | 737kB 3.3MB/s eta 0:00:01\r\u001b[K     |██████████▋                     | 747kB 3.3MB/s eta 0:00:01\r\u001b[K     |██████████▊                     | 757kB 3.3MB/s eta 0:00:01\r\u001b[K     |██████████▉                     | 768kB 3.3MB/s eta 0:00:01\r\u001b[K     |███████████                     | 778kB 3.3MB/s eta 0:00:01\r\u001b[K     |███████████▏                    | 788kB 3.3MB/s eta 0:00:01\r\u001b[K     |███████████▎                    | 798kB 3.3MB/s eta 0:00:01\r\u001b[K     |███████████▌                    | 808kB 3.3MB/s eta 0:00:01\r\u001b[K     |███████████▋                    | 819kB 3.3MB/s eta 0:00:01\r\u001b[K     |███████████▊                    | 829kB 3.3MB/s eta 0:00:01\r\u001b[K     |███████████▉                    | 839kB 3.3MB/s eta 0:00:01\r\u001b[K     |████████████                    | 849kB 3.3MB/s eta 0:00:01\r\u001b[K     |████████████▏                   | 860kB 3.3MB/s eta 0:00:01\r\u001b[K     |████████████▎                   | 870kB 3.3MB/s eta 0:00:01\r\u001b[K     |████████████▌                   | 880kB 3.3MB/s eta 0:00:01\r\u001b[K     |████████████▋                   | 890kB 3.3MB/s eta 0:00:01\r\u001b[K     |████████████▊                   | 901kB 3.3MB/s eta 0:00:01\r\u001b[K     |█████████████                   | 911kB 3.3MB/s eta 0:00:01\r\u001b[K     |█████████████                   | 921kB 3.3MB/s eta 0:00:01\r\u001b[K     |█████████████▏                  | 931kB 3.3MB/s eta 0:00:01\r\u001b[K     |█████████████▍                  | 942kB 3.3MB/s eta 0:00:01\r\u001b[K     |█████████████▌                  | 952kB 3.3MB/s eta 0:00:01\r\u001b[K     |█████████████▋                  | 962kB 3.3MB/s eta 0:00:01\r\u001b[K     |█████████████▊                  | 972kB 3.3MB/s eta 0:00:01\r\u001b[K     |██████████████                  | 983kB 3.3MB/s eta 0:00:01\r\u001b[K     |██████████████                  | 993kB 3.3MB/s eta 0:00:01\r\u001b[K     |██████████████▏                 | 1.0MB 3.3MB/s eta 0:00:01\r\u001b[K     |██████████████▍                 | 1.0MB 3.3MB/s eta 0:00:01\r\u001b[K     |██████████████▌                 | 1.0MB 3.3MB/s eta 0:00:01\r\u001b[K     |██████████████▋                 | 1.0MB 3.3MB/s eta 0:00:01\r\u001b[K     |██████████████▉                 | 1.0MB 3.3MB/s eta 0:00:01\r\u001b[K     |███████████████                 | 1.1MB 3.3MB/s eta 0:00:01\r\u001b[K     |███████████████                 | 1.1MB 3.3MB/s eta 0:00:01\r\u001b[K     |███████████████▏                | 1.1MB 3.3MB/s eta 0:00:01\r\u001b[K     |███████████████▍                | 1.1MB 3.3MB/s eta 0:00:01\r\u001b[K     |███████████████▌                | 1.1MB 3.3MB/s eta 0:00:01\r\u001b[K     |███████████████▋                | 1.1MB 3.3MB/s eta 0:00:01\r\u001b[K     |███████████████▉                | 1.1MB 3.3MB/s eta 0:00:01\r\u001b[K     |████████████████                | 1.1MB 3.3MB/s eta 0:00:01\r\u001b[K     |████████████████                | 1.1MB 3.3MB/s eta 0:00:01\r\u001b[K     |████████████████▎               | 1.1MB 3.3MB/s eta 0:00:01\r\u001b[K     |████████████████▍               | 1.2MB 3.3MB/s eta 0:00:01\r\u001b[K     |████████████████▌               | 1.2MB 3.3MB/s eta 0:00:01\r\u001b[K     |████████████████▊               | 1.2MB 3.3MB/s eta 0:00:01\r\u001b[K     |████████████████▉               | 1.2MB 3.3MB/s eta 0:00:01\r\u001b[K     |█████████████████               | 1.2MB 3.3MB/s eta 0:00:01\r\u001b[K     |█████████████████               | 1.2MB 3.3MB/s eta 0:00:01\r\u001b[K     |█████████████████▎              | 1.2MB 3.3MB/s eta 0:00:01\r\u001b[K     |█████████████████▍              | 1.2MB 3.3MB/s eta 0:00:01\r\u001b[K     |█████████████████▌              | 1.2MB 3.3MB/s eta 0:00:01\r\u001b[K     |█████████████████▊              | 1.2MB 3.3MB/s eta 0:00:01\r\u001b[K     |█████████████████▉              | 1.3MB 3.3MB/s eta 0:00:01\r\u001b[K     |██████████████████              | 1.3MB 3.3MB/s eta 0:00:01\r\u001b[K     |██████████████████▏             | 1.3MB 3.3MB/s eta 0:00:01\r\u001b[K     |██████████████████▎             | 1.3MB 3.3MB/s eta 0:00:01\r\u001b[K     |██████████████████▍             | 1.3MB 3.3MB/s eta 0:00:01\r\u001b[K     |██████████████████▋             | 1.3MB 3.3MB/s eta 0:00:01\r\u001b[K     |██████████████████▊             | 1.3MB 3.3MB/s eta 0:00:01\r\u001b[K     |██████████████████▉             | 1.3MB 3.3MB/s eta 0:00:01\r\u001b[K     |███████████████████             | 1.3MB 3.3MB/s eta 0:00:01\r\u001b[K     |███████████████████▏            | 1.4MB 3.3MB/s eta 0:00:01\r\u001b[K     |███████████████████▎            | 1.4MB 3.3MB/s eta 0:00:01\r\u001b[K     |███████████████████▍            | 1.4MB 3.3MB/s eta 0:00:01\r\u001b[K     |███████████████████▋            | 1.4MB 3.3MB/s eta 0:00:01\r\u001b[K     |███████████████████▊            | 1.4MB 3.3MB/s eta 0:00:01\r\u001b[K     |███████████████████▉            | 1.4MB 3.3MB/s eta 0:00:01\r\u001b[K     |████████████████████            | 1.4MB 3.3MB/s eta 0:00:01\r\u001b[K     |████████████████████▏           | 1.4MB 3.3MB/s eta 0:00:01\r\u001b[K     |████████████████████▎           | 1.4MB 3.3MB/s eta 0:00:01\r\u001b[K     |████████████████████▍           | 1.4MB 3.3MB/s eta 0:00:01\r\u001b[K     |████████████████████▋           | 1.5MB 3.3MB/s eta 0:00:01\r\u001b[K     |████████████████████▊           | 1.5MB 3.3MB/s eta 0:00:01\r\u001b[K     |████████████████████▉           | 1.5MB 3.3MB/s eta 0:00:01\r\u001b[K     |█████████████████████           | 1.5MB 3.3MB/s eta 0:00:01\r\u001b[K     |█████████████████████▏          | 1.5MB 3.3MB/s eta 0:00:01\r\u001b[K     |█████████████████████▎          | 1.5MB 3.3MB/s eta 0:00:01\r\u001b[K     |█████████████████████▌          | 1.5MB 3.3MB/s eta 0:00:01\r\u001b[K     |█████████████████████▋          | 1.5MB 3.3MB/s eta 0:00:01\r\u001b[K     |█████████████████████▊          | 1.5MB 3.3MB/s eta 0:00:01\r\u001b[K     |██████████████████████          | 1.5MB 3.3MB/s eta 0:00:01\r\u001b[K     |██████████████████████          | 1.6MB 3.3MB/s eta 0:00:01\r\u001b[K     |██████████████████████▏         | 1.6MB 3.3MB/s eta 0:00:01\r\u001b[K     |██████████████████████▎         | 1.6MB 3.3MB/s eta 0:00:01\r\u001b[K     |██████████████████████▌         | 1.6MB 3.3MB/s eta 0:00:01\r\u001b[K     |██████████████████████▋         | 1.6MB 3.3MB/s eta 0:00:01\r\u001b[K     |██████████████████████▊         | 1.6MB 3.3MB/s eta 0:00:01\r\u001b[K     |███████████████████████         | 1.6MB 3.3MB/s eta 0:00:01\r\u001b[K     |███████████████████████         | 1.6MB 3.3MB/s eta 0:00:01\r\u001b[K     |███████████████████████▏        | 1.6MB 3.3MB/s eta 0:00:01\r\u001b[K     |███████████████████████▍        | 1.6MB 3.3MB/s eta 0:00:01\r\u001b[K     |███████████████████████▌        | 1.7MB 3.3MB/s eta 0:00:01\r\u001b[K     |███████████████████████▋        | 1.7MB 3.3MB/s eta 0:00:01\r\u001b[K     |███████████████████████▊        | 1.7MB 3.3MB/s eta 0:00:01\r\u001b[K     |████████████████████████        | 1.7MB 3.3MB/s eta 0:00:01\r\u001b[K     |████████████████████████        | 1.7MB 3.3MB/s eta 0:00:01\r\u001b[K     |████████████████████████▏       | 1.7MB 3.3MB/s eta 0:00:01\r\u001b[K     |████████████████████████▍       | 1.7MB 3.3MB/s eta 0:00:01\r\u001b[K     |████████████████████████▌       | 1.7MB 3.3MB/s eta 0:00:01\r\u001b[K     |████████████████████████▋       | 1.7MB 3.3MB/s eta 0:00:01\r\u001b[K     |████████████████████████▉       | 1.8MB 3.3MB/s eta 0:00:01\r\u001b[K     |█████████████████████████       | 1.8MB 3.3MB/s eta 0:00:01\r\u001b[K     |█████████████████████████       | 1.8MB 3.3MB/s eta 0:00:01\r\u001b[K     |█████████████████████████▎      | 1.8MB 3.3MB/s eta 0:00:01\r\u001b[K     |█████████████████████████▍      | 1.8MB 3.3MB/s eta 0:00:01\r\u001b[K     |█████████████████████████▌      | 1.8MB 3.3MB/s eta 0:00:01\r\u001b[K     |█████████████████████████▋      | 1.8MB 3.3MB/s eta 0:00:01\r\u001b[K     |█████████████████████████▉      | 1.8MB 3.3MB/s eta 0:00:01\r\u001b[K     |██████████████████████████      | 1.8MB 3.3MB/s eta 0:00:01\r\u001b[K     |██████████████████████████      | 1.8MB 3.3MB/s eta 0:00:01\r\u001b[K     |██████████████████████████▎     | 1.9MB 3.3MB/s eta 0:00:01\r\u001b[K     |██████████████████████████▍     | 1.9MB 3.3MB/s eta 0:00:01\r\u001b[K     |██████████████████████████▌     | 1.9MB 3.3MB/s eta 0:00:01\r\u001b[K     |██████████████████████████▊     | 1.9MB 3.3MB/s eta 0:00:01\r\u001b[K     |██████████████████████████▉     | 1.9MB 3.3MB/s eta 0:00:01\r\u001b[K     |███████████████████████████     | 1.9MB 3.3MB/s eta 0:00:01\r\u001b[K     |███████████████████████████     | 1.9MB 3.3MB/s eta 0:00:01\r\u001b[K     |███████████████████████████▎    | 1.9MB 3.3MB/s eta 0:00:01\r\u001b[K     |███████████████████████████▍    | 1.9MB 3.3MB/s eta 0:00:01\r\u001b[K     |███████████████████████████▌    | 1.9MB 3.3MB/s eta 0:00:01\r\u001b[K     |███████████████████████████▊    | 2.0MB 3.3MB/s eta 0:00:01\r\u001b[K     |███████████████████████████▉    | 2.0MB 3.3MB/s eta 0:00:01\r\u001b[K     |████████████████████████████    | 2.0MB 3.3MB/s eta 0:00:01\r\u001b[K     |████████████████████████████▏   | 2.0MB 3.3MB/s eta 0:00:01\r\u001b[K     |████████████████████████████▎   | 2.0MB 3.3MB/s eta 0:00:01\r\u001b[K     |████████████████████████████▍   | 2.0MB 3.3MB/s eta 0:00:01\r\u001b[K     |████████████████████████████▋   | 2.0MB 3.3MB/s eta 0:00:01\r\u001b[K     |████████████████████████████▊   | 2.0MB 3.3MB/s eta 0:00:01\r\u001b[K     |████████████████████████████▉   | 2.0MB 3.3MB/s eta 0:00:01\r\u001b[K     |█████████████████████████████   | 2.0MB 3.3MB/s eta 0:00:01\r\u001b[K     |█████████████████████████████▏  | 2.1MB 3.3MB/s eta 0:00:01\r\u001b[K     |█████████████████████████████▎  | 2.1MB 3.3MB/s eta 0:00:01\r\u001b[K     |█████████████████████████████▍  | 2.1MB 3.3MB/s eta 0:00:01\r\u001b[K     |█████████████████████████████▋  | 2.1MB 3.3MB/s eta 0:00:01\r\u001b[K     |█████████████████████████████▊  | 2.1MB 3.3MB/s eta 0:00:01\r\u001b[K     |█████████████████████████████▉  | 2.1MB 3.3MB/s eta 0:00:01\r\u001b[K     |██████████████████████████████  | 2.1MB 3.3MB/s eta 0:00:01\r\u001b[K     |██████████████████████████████▏ | 2.1MB 3.3MB/s eta 0:00:01\r\u001b[K     |██████████████████████████████▎ | 2.1MB 3.3MB/s eta 0:00:01\r\u001b[K     |██████████████████████████████▍ | 2.2MB 3.3MB/s eta 0:00:01\r\u001b[K     |██████████████████████████████▋ | 2.2MB 3.3MB/s eta 0:00:01\r\u001b[K     |██████████████████████████████▊ | 2.2MB 3.3MB/s eta 0:00:01\r\u001b[K     |██████████████████████████████▉ | 2.2MB 3.3MB/s eta 0:00:01\r\u001b[K     |███████████████████████████████ | 2.2MB 3.3MB/s eta 0:00:01\r\u001b[K     |███████████████████████████████▏| 2.2MB 3.3MB/s eta 0:00:01\r\u001b[K     |███████████████████████████████▎| 2.2MB 3.3MB/s eta 0:00:01\r\u001b[K     |███████████████████████████████▌| 2.2MB 3.3MB/s eta 0:00:01\r\u001b[K     |███████████████████████████████▋| 2.2MB 3.3MB/s eta 0:00:01\r\u001b[K     |███████████████████████████████▊| 2.2MB 3.3MB/s eta 0:00:01\r\u001b[K     |████████████████████████████████| 2.3MB 3.3MB/s eta 0:00:01\r\u001b[K     |████████████████████████████████| 2.3MB 3.3MB/s \n",
            "\u001b[?25hRequirement already satisfied: opencv-python>=4.1.0 in /usr/local/lib/python3.6/dist-packages (from mtcnn) (4.1.2.30)\n",
            "Requirement already satisfied: keras>=2.0.0 in /usr/local/lib/python3.6/dist-packages (from mtcnn) (2.3.1)\n",
            "Requirement already satisfied: numpy>=1.11.3 in /usr/local/lib/python3.6/dist-packages (from opencv-python>=4.1.0->mtcnn) (1.18.5)\n",
            "Requirement already satisfied: six>=1.9.0 in /usr/local/lib/python3.6/dist-packages (from keras>=2.0.0->mtcnn) (1.12.0)\n",
            "Requirement already satisfied: pyyaml in /usr/local/lib/python3.6/dist-packages (from keras>=2.0.0->mtcnn) (3.13)\n",
            "Requirement already satisfied: h5py in /usr/local/lib/python3.6/dist-packages (from keras>=2.0.0->mtcnn) (2.10.0)\n",
            "Requirement already satisfied: keras-preprocessing>=1.0.5 in /usr/local/lib/python3.6/dist-packages (from keras>=2.0.0->mtcnn) (1.1.2)\n",
            "Requirement already satisfied: keras-applications>=1.0.6 in /usr/local/lib/python3.6/dist-packages (from keras>=2.0.0->mtcnn) (1.0.8)\n",
            "Requirement already satisfied: scipy>=0.14 in /usr/local/lib/python3.6/dist-packages (from keras>=2.0.0->mtcnn) (1.4.1)\n",
            "Installing collected packages: mtcnn\n",
            "Successfully installed mtcnn-0.1.0\n"
          ],
          "name": "stdout"
        }
      ]
    },
    {
      "cell_type": "code",
      "metadata": {
        "id": "nb2-ifimtKEO",
        "colab_type": "code",
        "colab": {
          "base_uri": "https://localhost:8080/",
          "height": 34
        },
        "outputId": "506be4e0-13fa-4ffa-9744-3ead81ca407b"
      },
      "source": [
        "!git clone https://github.com/D2DOnline/FaceRecognition1.git"
      ],
      "execution_count": 14,
      "outputs": [
        {
          "output_type": "stream",
          "text": [
            "fatal: destination path 'FaceRecognition1' already exists and is not an empty directory.\n"
          ],
          "name": "stdout"
        }
      ]
    },
    {
      "cell_type": "code",
      "metadata": {
        "id": "vr0u0Y30wXPK",
        "colab_type": "code",
        "colab": {
          "base_uri": "https://localhost:8080/",
          "height": 34
        },
        "outputId": "11bb46f1-add6-4bda-eb80-12e6779272b5"
      },
      "source": [
        "!git pull https://github.com/D2DOnline/FaceRecognition1.git"
      ],
      "execution_count": 13,
      "outputs": [
        {
          "output_type": "stream",
          "text": [
            "fatal: not a git repository (or any of the parent directories): .git\n"
          ],
          "name": "stdout"
        }
      ]
    },
    {
      "cell_type": "code",
      "metadata": {
        "id": "EXBYFdkQqtX9",
        "colab_type": "code",
        "colab": {
          "base_uri": "https://localhost:8080/",
          "height": 34
        },
        "outputId": "e526a3e6-fc41-4877-b0de-cb88cf3dc37f"
      },
      "source": [
        "!ls FaceRecognition1\n"
      ],
      "execution_count": 4,
      "outputs": [
        {
          "output_type": "stream",
          "text": [
            "data-preprocess.py  main.ipynb\tREADME.md  train-images\n"
          ],
          "name": "stdout"
        }
      ]
    },
    {
      "cell_type": "code",
      "metadata": {
        "id": "6fx1c-I9tbxc",
        "colab_type": "code",
        "colab": {
          "base_uri": "https://localhost:8080/",
          "height": 34
        },
        "outputId": "93af5b9d-3414-4f71-8798-b9b157f798c1"
      },
      "source": [
        "from os import listdir\n",
        "from os.path import isdir\n",
        "from PIL import Image\n",
        "from matplotlib import pyplot\n",
        "from numpy import savez_compressed\n",
        "from numpy import asarray\n",
        "from mtcnn.mtcnn import MTCNN"
      ],
      "execution_count": 5,
      "outputs": [
        {
          "output_type": "stream",
          "text": [
            "Using TensorFlow backend.\n"
          ],
          "name": "stderr"
        }
      ]
    },
    {
      "cell_type": "code",
      "metadata": {
        "id": "80vQFflrtrmt",
        "colab_type": "code",
        "colab": {}
      },
      "source": [
        "def extract_face(filename, required_size=(160, 160)):\n",
        "\timage = Image.open(filename)\n",
        "\timage = image.convert('RGB')\n",
        "\tpixels = asarray(image)\n",
        "\tdetector = MTCNN()\n",
        "\tresults = detector.detect_faces(pixels)\n",
        "\tx1, y1, width, height = results[0]['box']\n",
        "\tx1, y1 = abs(x1), abs(y1)\n",
        "\tx2, y2 = x1 + width, y1 + height\n",
        "\tface = pixels[y1:y2, x1:x2]\n",
        "\timage = Image.fromarray(face)\n",
        "\timage = image.resize(required_size)\n",
        "\tface_array = asarray(image)\n",
        "\treturn face_array"
      ],
      "execution_count": 6,
      "outputs": []
    },
    {
      "cell_type": "code",
      "metadata": {
        "id": "YkZAL2L9t_52",
        "colab_type": "code",
        "colab": {}
      },
      "source": [
        "def load_faces(directory):\n",
        "\tfaces = list()\n",
        "\tfor filename in listdir(directory):\n",
        "\t\tpath = directory + '/' + filename\n",
        "\t\tface = extract_face(path)\n",
        "\t\tfaces.append(face)\n",
        "\treturn faces"
      ],
      "execution_count": 7,
      "outputs": []
    },
    {
      "cell_type": "code",
      "metadata": {
        "id": "boDxI4y1uLwt",
        "colab_type": "code",
        "colab": {}
      },
      "source": [
        "def load_dataset(directory):\n",
        "\tX, y = list(), list()\n",
        "\tfor subdir in listdir(directory):\n",
        "\t\tpath = directory + '/' + subdir\n",
        "\t\tif not isdir(path):\n",
        "\t\t\tcontinue\n",
        "\t\tfaces = load_faces(path)\n",
        "\t\tlabels = [subdir for _ in range(len(faces))]\n",
        "\t\tprint('>loaded %d examples for class: %s' % (len(faces), subdir))\n",
        "\t\t# store\n",
        "\t\tX.extend(faces)\n",
        "\t\ty.extend(labels)\n",
        "\treturn asarray(X), asarray(y)\n"
      ],
      "execution_count": 8,
      "outputs": []
    },
    {
      "cell_type": "code",
      "metadata": {
        "id": "L8_Ol5gkuhBg",
        "colab_type": "code",
        "colab": {
          "base_uri": "https://localhost:8080/",
          "height": 136
        },
        "outputId": "909630a8-a34d-4a9f-e9d1-e33255da4541"
      },
      "source": [
        "trainX, trainY = load_dataset('FaceRecognition1/train-images')\n",
        "print(trainX.shape, trainY.shape)\n",
        "testX, testY = load_dataset('FaceRecognition1/train-images')\n",
        "savez_compressed('FaceRecognition1/face-dataset.npz', trainX, trainY, testX, testY)"
      ],
      "execution_count": 11,
      "outputs": [
        {
          "output_type": "stream",
          "text": [
            ">loaded 8 examples for class: anand\n",
            ">loaded 8 examples for class: guru\n",
            ">loaded 8 examples for class: jitendra\n",
            "(24, 160, 160, 3) (24,)\n",
            ">loaded 8 examples for class: anand\n",
            ">loaded 8 examples for class: guru\n",
            ">loaded 8 examples for class: jitendra\n"
          ],
          "name": "stdout"
        }
      ]
    }
  ]
}
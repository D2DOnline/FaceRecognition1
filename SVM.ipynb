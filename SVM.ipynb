{
  "nbformat": 4,
  "nbformat_minor": 0,
  "metadata": {
    "kernelspec": {
      "display_name": "Python 3",
      "language": "python",
      "name": "python3"
    },
    "language_info": {
      "codemirror_mode": {
        "name": "ipython",
        "version": 3
      },
      "file_extension": ".py",
      "mimetype": "text/x-python",
      "name": "python",
      "nbconvert_exporter": "python",
      "pygments_lexer": "ipython3",
      "version": "3.8.1"
    },
    "colab": {
      "name": "SVM.ipynb",
      "provenance": []
    }
  },
  "cells": [
    {
      "cell_type": "code",
      "metadata": {
        "id": "EcLQ5F82Y3k_",
        "colab_type": "code",
        "colab": {
          "base_uri": "https://localhost:8080/",
          "height": 136
        },
        "outputId": "3b99520e-fdb8-46e0-9494-5c3283ab7329"
      },
      "source": [
        "!git clone https://github.com/D2DOnline/FaceRecognition1.git\n"
      ],
      "execution_count": 2,
      "outputs": [
        {
          "output_type": "stream",
          "text": [
            "Cloning into 'FaceRecognition1'...\n",
            "remote: Enumerating objects: 105, done.\u001b[K\n",
            "remote: Counting objects:   0% (1/105)\u001b[K\rremote: Counting objects:   1% (2/105)\u001b[K\rremote: Counting objects:   2% (3/105)\u001b[K\rremote: Counting objects:   3% (4/105)\u001b[K\rremote: Counting objects:   4% (5/105)\u001b[K\rremote: Counting objects:   5% (6/105)\u001b[K\rremote: Counting objects:   6% (7/105)\u001b[K\rremote: Counting objects:   7% (8/105)\u001b[K\rremote: Counting objects:   8% (9/105)\u001b[K\rremote: Counting objects:   9% (10/105)\u001b[K\rremote: Counting objects:  10% (11/105)\u001b[K\rremote: Counting objects:  11% (12/105)\u001b[K\rremote: Counting objects:  12% (13/105)\u001b[K\rremote: Counting objects:  13% (14/105)\u001b[K\rremote: Counting objects:  14% (15/105)\u001b[K\rremote: Counting objects:  15% (16/105)\u001b[K\rremote: Counting objects:  16% (17/105)\u001b[K\rremote: Counting objects:  17% (18/105)\u001b[K\rremote: Counting objects:  18% (19/105)\u001b[K\rremote: Counting objects:  19% (20/105)\u001b[K\rremote: Counting objects:  20% (21/105)\u001b[K\rremote: Counting objects:  21% (23/105)\u001b[K\rremote: Counting objects:  22% (24/105)\u001b[K\rremote: Counting objects:  23% (25/105)\u001b[K\rremote: Counting objects:  24% (26/105)\u001b[K\rremote: Counting objects:  25% (27/105)\u001b[K\rremote: Counting objects:  26% (28/105)\u001b[K\rremote: Counting objects:  27% (29/105)\u001b[K\rremote: Counting objects:  28% (30/105)\u001b[K\rremote: Counting objects:  29% (31/105)\u001b[K\rremote: Counting objects:  30% (32/105)\u001b[K\rremote: Counting objects:  31% (33/105)\u001b[K\rremote: Counting objects:  32% (34/105)\u001b[K\rremote: Counting objects:  33% (35/105)\u001b[K\rremote: Counting objects:  34% (36/105)\u001b[K\rremote: Counting objects:  35% (37/105)\u001b[K\rremote: Counting objects:  36% (38/105)\u001b[K\rremote: Counting objects:  37% (39/105)\u001b[K\rremote: Counting objects:  38% (40/105)\u001b[K\rremote: Counting objects:  39% (41/105)\u001b[K\rremote: Counting objects:  40% (42/105)\u001b[K\rremote: Counting objects:  41% (44/105)\u001b[K\rremote: Counting objects:  42% (45/105)\u001b[K\rremote: Counting objects:  43% (46/105)\u001b[K\rremote: Counting objects:  44% (47/105)\u001b[K\rremote: Counting objects:  45% (48/105)\u001b[K\rremote: Counting objects:  46% (49/105)\u001b[K\rremote: Counting objects:  47% (50/105)\u001b[K\rremote: Counting objects:  48% (51/105)\u001b[K\rremote: Counting objects:  49% (52/105)\u001b[K\rremote: Counting objects:  50% (53/105)\u001b[K\rremote: Counting objects:  51% (54/105)\u001b[K\rremote: Counting objects:  52% (55/105)\u001b[K\rremote: Counting objects:  53% (56/105)\u001b[K\rremote: Counting objects:  54% (57/105)\u001b[K\rremote: Counting objects:  55% (58/105)\u001b[K\rremote: Counting objects:  56% (59/105)\u001b[K\rremote: Counting objects:  57% (60/105)\u001b[K\rremote: Counting objects:  58% (61/105)\u001b[K\rremote: Counting objects:  59% (62/105)\u001b[K\rremote: Counting objects:  60% (63/105)\u001b[K\rremote: Counting objects:  61% (65/105)\u001b[K\rremote: Counting objects:  62% (66/105)\u001b[K\rremote: Counting objects:  63% (67/105)\u001b[K\rremote: Counting objects:  64% (68/105)\u001b[K\rremote: Counting objects:  65% (69/105)\u001b[K\rremote: Counting objects:  66% (70/105)\u001b[K\rremote: Counting objects:  67% (71/105)\u001b[K\rremote: Counting objects:  68% (72/105)\u001b[K\rremote: Counting objects:  69% (73/105)\u001b[K\rremote: Counting objects:  70% (74/105)\u001b[K\rremote: Counting objects:  71% (75/105)\u001b[K\rremote: Counting objects:  72% (76/105)\u001b[K\rremote: Counting objects:  73% (77/105)\u001b[K\rremote: Counting objects:  74% (78/105)\u001b[K\rremote: Counting objects:  75% (79/105)\u001b[K\rremote: Counting objects:  76% (80/105)\u001b[K\rremote: Counting objects:  77% (81/105)\u001b[K\rremote: Counting objects:  78% (82/105)\u001b[K\rremote: Counting objects:  79% (83/105)\u001b[K\rremote: Counting objects:  80% (84/105)\u001b[K\rremote: Counting objects:  81% (86/105)\u001b[K\rremote: Counting objects:  82% (87/105)\u001b[K\rremote: Counting objects:  83% (88/105)\u001b[K\rremote: Counting objects:  84% (89/105)\u001b[K\rremote: Counting objects:  85% (90/105)\u001b[K\rremote: Counting objects:  86% (91/105)\u001b[K\rremote: Counting objects:  87% (92/105)\u001b[K\rremote: Counting objects:  88% (93/105)\u001b[K\rremote: Counting objects:  89% (94/105)\u001b[K\rremote: Counting objects:  90% (95/105)\u001b[K\rremote: Counting objects:  91% (96/105)\u001b[K\rremote: Counting objects:  92% (97/105)\u001b[K\rremote: Counting objects:  93% (98/105)\u001b[K\rremote: Counting objects:  94% (99/105)\u001b[K\rremote: Counting objects:  95% (100/105)\u001b[K\rremote: Counting objects:  96% (101/105)\u001b[K\rremote: Counting objects:  97% (102/105)\u001b[K\rremote: Counting objects:  98% (103/105)\u001b[K\rremote: Counting objects:  99% (104/105)\u001b[K\rremote: Counting objects: 100% (105/105)\u001b[K\rremote: Counting objects: 100% (105/105), done.\u001b[K\n",
            "remote: Compressing objects: 100% (103/103), done.\u001b[K\n",
            "remote: Total 105 (delta 31), reused 0 (delta 0), pack-reused 0\u001b[K\n",
            "Receiving objects: 100% (105/105), 2.14 MiB | 6.14 MiB/s, done.\n",
            "Resolving deltas: 100% (31/31), done.\n"
          ],
          "name": "stdout"
        }
      ]
    },
    {
      "cell_type": "code",
      "metadata": {
        "id": "EwcWDFjFY3lH",
        "colab_type": "code",
        "colab": {
          "base_uri": "https://localhost:8080/",
          "height": 51
        },
        "outputId": "abff6e76-ad15-4314-ff95-adeb430ec6c6"
      },
      "source": [
        "!ls FaceRecognition1"
      ],
      "execution_count": 3,
      "outputs": [
        {
          "output_type": "stream",
          "text": [
            "data-preprocess.py\t   face-dataset.npz  README.md\ttest-images\n",
            "face-dataset_embeding.npz  main.ipynb\t     SVM.ipynb\ttrain-images\n"
          ],
          "name": "stdout"
        }
      ]
    },
    {
      "cell_type": "code",
      "metadata": {
        "id": "xUKZR1uBao1b",
        "colab_type": "code",
        "colab": {}
      },
      "source": [
        "import numpy as np\n",
        "from sklearn.preprocessing import Normalizer\n",
        "from sklearn.preprocessing import LabelEncoder\n",
        "from sklearn.svm import SVC"
      ],
      "execution_count": 37,
      "outputs": []
    },
    {
      "cell_type": "code",
      "metadata": {
        "id": "SAphoLrfZgn8",
        "colab_type": "code",
        "colab": {}
      },
      "source": [
        "\n",
        "data = np.load('FaceRecognition1/face-dataset_embeding.npz')\n",
        "trainX, trainy, testX, testy = data['arr_0'], data['arr_1'], data['arr_2'], data['arr_3']"
      ],
      "execution_count": 60,
      "outputs": []
    },
    {
      "cell_type": "code",
      "metadata": {
        "id": "OyQphd73aGaM",
        "colab_type": "code",
        "colab": {
          "base_uri": "https://localhost:8080/",
          "height": 102
        },
        "outputId": "e1f93295-2de0-438a-d5b2-4e1fd1a0e5e0"
      },
      "source": [
        "# normalize input vectors\n",
        "in_encoder = Normalizer(norm='l2')\n",
        "trainX = in_encoder.transform(trainX)\n",
        "\n",
        "# label encode targets\n",
        "out_encoder = LabelEncoder()\n",
        "out_encoder.fit(trainy)\n",
        "trainy_ = out_encoder.transform(trainy)\n",
        "\n",
        "# Saving class names with encoded values for future use - while predicting\n",
        "list_class_dict = [{i:v} for i,v in enumerate(out_encoder.classes_)]\n",
        "print(list_class_dict)\n",
        "\n",
        "# fit model\n",
        "model = SVC(kernel='linear', probability=True)\n",
        "model.fit(trainX, trainy_)"
      ],
      "execution_count": 83,
      "outputs": [
        {
          "output_type": "stream",
          "text": [
            "[{0: 'anand'}, {1: 'guru'}, {2: 'jitendra'}]\n"
          ],
          "name": "stdout"
        },
        {
          "output_type": "execute_result",
          "data": {
            "text/plain": [
              "SVC(C=1.0, break_ties=False, cache_size=200, class_weight=None, coef0=0.0,\n",
              "    decision_function_shape='ovr', degree=3, gamma='scale', kernel='linear',\n",
              "    max_iter=-1, probability=True, random_state=None, shrinking=True, tol=0.001,\n",
              "    verbose=False)"
            ]
          },
          "metadata": {
            "tags": []
          },
          "execution_count": 83
        }
      ]
    },
    {
      "cell_type": "code",
      "metadata": {
        "id": "Ynpp2ZRTcD1u",
        "colab_type": "code",
        "colab": {
          "base_uri": "https://localhost:8080/",
          "height": 51
        },
        "outputId": "d18f2e99-ebbb-4ae1-ad98-dcb1c58aee6a"
      },
      "source": [
        "# test model on a random example from the test dataset\n",
        "from random import choice\n",
        "\n",
        "selection = choice([i for i in range(testX.shape[0])])\n",
        "\n",
        "random_face_emb = testX[selection]\n",
        "\n",
        "# prediction for the face\n",
        "samples = np.expand_dims(random_face_emb, axis=0)\n",
        "\n",
        "yhat_class = model.predict(samples)\n",
        "yhat_prob = model.predict_proba(samples)\n",
        "print(yhat_class)\n",
        "print(yhat_prob)"
      ],
      "execution_count": 47,
      "outputs": [
        {
          "output_type": "stream",
          "text": [
            "[0]\n",
            "[[7.83120301e-01 2.16833164e-01 4.65345749e-05]]\n"
          ],
          "name": "stdout"
        }
      ]
    },
    {
      "cell_type": "code",
      "metadata": {
        "id": "eFa98ZeRpUQs",
        "colab_type": "code",
        "colab": {
          "base_uri": "https://localhost:8080/",
          "height": 85
        },
        "outputId": "ddc6afd4-b12b-4843-bdf3-4e18c36ad726"
      },
      "source": [
        ""
      ],
      "execution_count": 34,
      "outputs": [
        {
          "output_type": "stream",
          "text": [
            "(2,)\n",
            "(1, 2)\n",
            "(2, 1)\n",
            "(1, 2, 1)\n"
          ],
          "name": "stdout"
        }
      ]
    }
  ]
}